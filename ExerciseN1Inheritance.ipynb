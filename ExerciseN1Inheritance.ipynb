{
  "nbformat": 4,
  "nbformat_minor": 0,
  "metadata": {
    "colab": {
      "provenance": [],
      "authorship_tag": "ABX9TyMN+clw7Ne/Bl5Kihn0iNz9",
      "include_colab_link": true
    },
    "kernelspec": {
      "name": "python3",
      "display_name": "Python 3"
    },
    "language_info": {
      "name": "python"
    }
  },
  "cells": [
    {
      "cell_type": "markdown",
      "metadata": {
        "id": "view-in-github",
        "colab_type": "text"
      },
      "source": [
        "<a href=\"https://colab.research.google.com/github/walterarboleda/EjercicioN1Inheritance/blob/main/ExerciseN1Inheritance.ipynb\" target=\"_parent\"><img src=\"https://colab.research.google.com/assets/colab-badge.svg\" alt=\"Open In Colab\"/></a>"
      ]
    },
    {
      "cell_type": "code",
      "execution_count": 1,
      "metadata": {
        "colab": {
          "base_uri": "https://localhost:8080/"
        },
        "id": "7PhfVDiRBrPl",
        "outputId": "c8e5b293-1cb0-46c0-e300-9e29814e4050"
      },
      "outputs": [
        {
          "output_type": "stream",
          "name": "stdout",
          "text": [
            "Tuut, tuut!\n",
            "Tuut, tuut!\n",
            "Fiesta\n"
          ]
        }
      ],
      "source": [
        "# La clase Vehicle hereda de 'object' por defecto en Python 3\n",
        "class Vehicle:\n",
        "    def __init__(self):\n",
        "        # Por convención, un guion bajo antes del nombre indica que es \"protegido\"\n",
        "        self._brand = None\n",
        "\n",
        "    def _honk(self):\n",
        "        print(\"Tuut, tuut!\")\n",
        "\n",
        "# La clase Car hereda de Vehicle\n",
        "class Car(Vehicle):\n",
        "    def __init__(self):\n",
        "        # Se llama al constructor de la clase padre\n",
        "        super().__init__()\n",
        "        # Atributo \"protegido\"\n",
        "        self._model_name = None\n",
        "\n",
        "class EjercicioN1Inheritance:\n",
        "  # Crear instancias de las clases\n",
        "  if __name__ == \"__main__\":\n",
        "      my_car = Car()\n",
        "      my_vehicle = Vehicle()\n",
        "\n",
        "      my_vehicle._brand = \"Nissan\"\n",
        "      my_vehicle._honk()\n",
        "\n",
        "      my_car._brand = \"Ford\"\n",
        "      my_car._honk()\n",
        "      my_car._model_name = \"Fiesta\"\n",
        "\n",
        "      # Imprimir el nombre del modelo\n",
        "      print(my_car._model_name)"
      ]
    }
  ]
}